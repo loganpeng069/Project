{
 "cells": [
  {
   "cell_type": "code",
   "execution_count": null,
   "metadata": {},
   "outputs": [
    {
     "name": "stdout",
     "output_type": "stream",
     "text": [
      "請輸入開始頁數:1\n",
      "請輸入結束頁數:245\n",
      "downloading from web....\n",
      "download has finished\n",
      "page 1 done\n"
     ]
    },
    {
     "name": "stderr",
     "output_type": "stream",
     "text": [
      "C:\\Python\\Python36-32\\examples\\house\\house.py:32: SettingWithCopyWarning: \n",
      "A value is trying to be set on a copy of a slice from a DataFrame\n",
      "\n",
      "See the caveats in the documentation: http://pandas.pydata.org/pandas-docs/stable/indexing.html#indexing-view-versus-copy\n",
      "  df['特殊'][t] = 'None'\n",
      "c:\\python\\python36-32\\lib\\site-packages\\pandas\\core\\indexing.py:194: SettingWithCopyWarning: \n",
      "A value is trying to be set on a copy of a slice from a DataFrame\n",
      "\n",
      "See the caveats in the documentation: http://pandas.pydata.org/pandas-docs/stable/indexing.html#indexing-view-versus-copy\n",
      "  self._setitem_with_indexer(indexer, value)\n"
     ]
    },
    {
     "name": "stdout",
     "output_type": "stream",
     "text": [
      "downloading from web....\n",
      "download has finished\n",
      "page 2 done\n",
      "downloading from web....\n",
      "download has finished\n",
      "page 3 done\n",
      "downloading from web....\n",
      "download has finished\n",
      "page 4 done\n",
      "downloading from web....\n",
      "download has finished\n",
      "page 5 done\n",
      "downloading from web....\n",
      "download has finished\n",
      "page 6 done\n",
      "downloading from web....\n",
      "download has finished\n",
      "page 7 done\n",
      "downloading from web....\n",
      "download has finished\n",
      "page 8 done\n",
      "downloading from web....\n",
      "download has finished\n",
      "page 9 done\n",
      "downloading from web....\n",
      "download has finished\n",
      "page 10 done\n",
      "downloading from web....\n",
      "download has finished\n",
      "page 11 done\n",
      "downloading from web....\n",
      "download has finished\n",
      "page 12 done\n",
      "downloading from web....\n",
      "download has finished\n",
      "page 13 done\n",
      "downloading from web....\n",
      "download has finished\n",
      "page 14 done\n",
      "downloading from web....\n",
      "download has finished\n",
      "page 15 done\n",
      "downloading from web....\n",
      "download has finished\n",
      "page 16 done\n",
      "downloading from web....\n",
      "download has finished\n",
      "page 17 done\n",
      "downloading from web....\n",
      "download has finished\n",
      "page 18 done\n",
      "downloading from web....\n",
      "download has finished\n",
      "page 19 done\n",
      "downloading from web....\n",
      "download has finished\n",
      "page 20 done\n",
      "downloading from web....\n",
      "download has finished\n",
      "page 21 done\n",
      "downloading from web....\n",
      "download has finished\n",
      "page 22 done\n",
      "downloading from web....\n",
      "download has finished\n",
      "page 23 done\n",
      "downloading from web....\n",
      "download has finished\n",
      "page 24 done\n",
      "downloading from web....\n",
      "download has finished\n",
      "page 25 done\n",
      "downloading from web....\n",
      "download has finished\n",
      "page 26 done\n",
      "downloading from web....\n",
      "download has finished\n",
      "page 27 done\n",
      "downloading from web....\n",
      "download has finished\n",
      "page 28 done\n",
      "downloading from web....\n",
      "download has finished\n",
      "page 29 done\n"
     ]
    }
   ],
   "source": [
    "%run house.py"
   ]
  },
  {
   "cell_type": "code",
   "execution_count": 7,
   "metadata": {},
   "outputs": [
    {
     "data": {
      "text/plain": [
       "Index(['年月', '地址', '類型', '總價', '每坪單價', '建坪', '地坪', '屋齡', '樓層', '格局', '特殊'], dtype='object')"
      ]
     },
     "execution_count": 7,
     "metadata": {},
     "output_type": "execute_result"
    }
   ],
   "source": [
    "temp.columns"
   ]
  },
  {
   "cell_type": "code",
   "execution_count": 6,
   "metadata": {},
   "outputs": [],
   "source": [
    "if 0 in temp.columns: \n",
    "    temp.drop([0, 1],axis=1,inplace=True)"
   ]
  },
  {
   "cell_type": "code",
   "execution_count": 8,
   "metadata": {},
   "outputs": [],
   "source": [
    "temp = temp[temp['地址'].isnull() != True]"
   ]
  },
  {
   "cell_type": "code",
   "execution_count": 10,
   "metadata": {},
   "outputs": [],
   "source": [
    "temp.to_csv('hou_%s.csv' % (district), index = False)"
   ]
  },
  {
   "cell_type": "code",
   "execution_count": 43,
   "metadata": {},
   "outputs": [],
   "source": [
    "import pandas as pd"
   ]
  },
  {
   "cell_type": "code",
   "execution_count": 9,
   "metadata": {},
   "outputs": [
    {
     "name": "stdout",
     "output_type": "stream",
     "text": [
      "         年月                        地址                類型                總價  \\\n",
      "0   107年03月       大同區延平北路二段1~30號 檢視位置             華廈/住宅             1950萬   \n",
      "1   107年03月   大同區重慶北路三段205巷1~30號 檢視位置             華廈/住宅              630萬   \n",
      "2   107年03月     大同區南京西路239巷1~30號 檢視位置  華廈/店面(店鋪)/辦公商業大樓             2450萬   \n",
      "3   107年03月   大同區延平北路二段272巷1~30號 檢視位置   無電梯公寓/住宅/辦公商業大樓             1475萬   \n",
      "4   107年03月      大同區民權西路271~300號 檢視位置    電梯大樓/住宅/辦公商業大樓             1575萬   \n",
      "5   107年03月     大同區民族西路205巷1~30號 檢視位置          無電梯公寓/住宅             1100萬   \n",
      "6   107年03月       大同區寧夏路151~180號 檢視位置        電梯大樓/住宅/套房             1400萬   \n",
      "7   107年03月        大同區迪化街二段1~30號 檢視位置       無電梯公寓/住宅/套房              931萬   \n",
      "8   107年03月    大同區重慶北路二段97巷1~30號 檢視位置         華廈/住宅 含車位  1980萬  (含車位150萬)   \n",
      "9   107年03月      大同區民權西路121~150號 檢視位置    電梯大樓/住宅/辦公商業大樓             1138萬   \n",
      "10  107年02月      大同區民生西路211~240號 檢視位置    電梯大樓/住宅/辦公商業大樓              650萬   \n",
      "11  107年02月      大同區民生西路181~210號 檢視位置               純車位   120萬  (含車位120萬)   \n",
      "12  107年02月      延平段三小段721~750地號 檢視位置               純土地               10萬   \n",
      "14  107年02月        大同區承德路三段1~30號 檢視位置       電梯大樓/住宅 含車位   5360萬  (含車位--萬)   \n",
      "15  107年02月       大同區酒泉街28巷1~30號 檢視位置          無電梯公寓/住宅              700萬   \n",
      "0   107年02月  大同區重慶北路三段120巷61~90號 檢視位置         華廈/住宅 含車位   1750萬  (含車位--萬)   \n",
      "1   107年01月         大同區安西街31~60號 檢視位置                華廈             1435萬   \n",
      "3   107年01月       大同區伊寧街75巷1~30號 檢視位置                公寓              910萬   \n",
      "5   107年01月   大同區承德路三段208巷61~90號 檢視位置                華廈             1600萬   \n",
      "7   107年01月  大同區重慶北路三段236巷31~60號 檢視位置                公寓              939萬   \n",
      "9   107年01月       大同區赤峰街77巷1~30號 檢視位置                公寓             1000萬   \n",
      "11  107年01月         大同區甘谷街31~60號 檢視位置          住宅大樓 含車位   3700萬  (含車位--萬)   \n",
      "12  107年01月      延平段三小段151~180地號 檢視位置               純土地               20萬   \n",
      "14  107年01月   大同區延平北路四段294巷1~30號 檢視位置          住宅大樓 含車位   2118萬  (含車位--萬)   \n",
      "16  107年01月    大同區環河北路二段271~300號 檢視位置          住宅大樓 含車位   1900萬  (含車位--萬)   \n",
      "17  107年01月          大同區保安街1~30號 檢視位置                套房              613萬   \n",
      "18  107年01月       大同區太原路11巷1~30號 檢視位置               透天厝             1500萬   \n",
      "19  107年01月      大同區民權西路121~150號 檢視位置               純車位     60萬  (含車位60萬)   \n",
      "20  107年01月       大同區太原路11巷1~30號 檢視位置               透天厝              500萬   \n",
      "21  107年01月    大同區重慶北路三段25巷1~30號 檢視位置            店面(店鋪)             1215萬   \n",
      "..      ...                       ...               ...               ...   \n",
      "6   105年01月       大同區太原路151~180號 檢視位置          住宅大樓 含車位    500萬  (含車位50萬)   \n",
      "8   105年01月       大同區歸綏街151~180號 檢視位置                套房              480萬   \n",
      "9   105年01月    大同區迪化街二段172巷1~30號 檢視位置                公寓              885萬   \n",
      "11  105年01月      文昌段二小段751~780地號 檢視位置               純土地             1050萬   \n",
      "13  105年01月    大同區重慶北路二段57巷1~30號 檢視位置            華廈 含車位   1900萬  (含車位--萬)   \n",
      "14  105年01月     大同區承德路三段241~270號 檢視位置          住宅大樓 含車位   5418萬  (含車位--萬)   \n",
      "15  105年01月    大同區南京西路107巷31~60號 檢視位置                公寓             1300萬   \n",
      "16  105年01月       大同區承德路一段61~90號 檢視位置                華廈             2500萬   \n",
      "17  105年01月   大同區南京西路64巷10弄1~30號 檢視位置                公寓              291萬   \n",
      "19  105年01月    大同區延平北路二段211~240號 檢視位置                套房              580萬   \n",
      "0   105年01月     大同區延平北路四段91~120號 檢視位置            華廈 含車位   1690萬  (含車位--萬)   \n",
      "1   105年01月      大同區民族西路271~300號 檢視位置            華廈 含車位   1150萬  (含車位--萬)   \n",
      "3   105年01月      大同區歸綏街160巷1~30號 檢視位置                套房              610萬   \n",
      "4   105年01月      大同區長安西路181~210號 檢視位置                套房              320萬   \n",
      "5   105年01月        大同區華陰街91~120號 檢視位置                套房             1236萬   \n",
      "6   105年01月       大同區伊寧街75巷1~30號 檢視位置                公寓              880萬   \n",
      "7   105年01月   大同區民權西路144巷5弄1~30號 檢視位置              住宅大樓             1888萬   \n",
      "8   105年01月     大同區民生西路171巷1~30號 檢視位置          住宅大樓 含車位   2558萬  (含車位--萬)   \n",
      "10  105年01月        大同區西寧北路61~90號 檢視位置            辦公商業大樓             8510萬   \n",
      "11  105年01月       大同區歸綏街181~210號 檢視位置            辦公商業大樓              380萬   \n",
      "13  105年01月          大同區涼州街1~30號 檢視位置               純車位   220萬  (含車位220萬)   \n",
      "15  105年01月       大同區大龍街89巷1~30號 檢視位置                公寓              500萬   \n",
      "16  105年01月    大同區重慶北路三段121~150號 檢視位置               純車位   200萬  (含車位200萬)   \n",
      "17  105年01月        大同區鄭州路91~120號 檢視位置          住宅大樓 含車位   2370萬  (含車位--萬)   \n",
      "19  105年01月    大同區延平北路二段241~270號 檢視位置                套房              433萬   \n",
      "0   105年01月   大同區重慶北路二段64巷31~60號 檢視位置               透天厝             3780萬   \n",
      "1   105年01月      大同區南京西路301~330號 檢視位置                套房              415萬   \n",
      "2   105年01月      大同區承德路二段1巷1~30號 檢視位置                公寓             3080萬   \n",
      "3   105年01月     大同區民權西路118巷1~30號 檢視位置                套房              838萬   \n",
      "5   105年01月       大同區酒泉街50巷1~30號 檢視位置                公寓             1100萬   \n",
      "\n",
      "                 每坪單價                   建坪      地坪     屋齡        樓層  \\\n",
      "0               53.2萬               36.68坪   3.89坪  28.2年   8 /共10層   \n",
      "1               51.5萬               12.24坪   3.05坪   9.3年    3 /共7層   \n",
      "2               41.1萬               59.61坪   10.8坪  40.4年    1 /共6層   \n",
      "3               55.9萬               26.38坪   7.86坪  24.4年    1 /共5層   \n",
      "4               61.4萬               25.65坪   2.51坪   0.9年   6 /共13層   \n",
      "5               43.2萬               25.48坪   8.85坪  46.2年    2 /共4層   \n",
      "6               60.7萬               23.07坪   2.58坪   6.1年   7 /共14層   \n",
      "7               32.4萬               28.76坪   8.55坪  46.4年    4 /共4層   \n",
      "8   47.1萬  (扣除車位價及車坪)    42.69坪  (含車位3.8坪)   9.65坪  18.3年    2 /共6層   \n",
      "9               43.3萬               26.26坪   2.55坪  27.9年   7 /共18層   \n",
      "10              74.5萬                8.73坪   0.92坪  13.4年  10 /共12層   \n",
      "11    --萬  (扣除車位價及車坪)    1.98坪  (含車位4.63坪)   0.02坪   7.8年   2 /共13層   \n",
      "12                 6萬                  --坪   1.71坪    --年    0 /共0層   \n",
      "14                59萬  90.79坪  (含車位35.32坪)   7.24坪   7.3年  15 /共15層   \n",
      "15                43萬               16.29坪   5.29坪  45.4年    4 /共4層   \n",
      "0               56.3萬   31.06坪  (含車位3.61坪)   4.83坪   7.1年    7 /共9層   \n",
      "1               * 38萬               37.77坪    5.1坪  34.3年    8 /共9層   \n",
      "3               50.5萬               18.04坪   7.64坪    --年    4 /共4層   \n",
      "5               55.8萬               28.67坪   5.28坪  34.6年    7 /共7層   \n",
      "7                 36萬                26.1坪    6.9坪  38.8年    5 /共5層   \n",
      "9             * 42.2萬               23.69坪   7.79坪  40.7年    3 /共4層   \n",
      "11              47.8萬  77.39坪  (含車位19.83坪)   7.41坪  25.3年  11 /共16層   \n",
      "12               * 0萬                  --坪    0.1坪    --年    0 /共0層   \n",
      "14              46.4萬  45.65坪  (含車位10.42坪)    8.9坪   1.6年  13 /共13層   \n",
      "16              47.4萬     40.11坪  (含車位--坪)   6.58坪  10.6年   9 /共13層   \n",
      "17              40.7萬               15.06坪   2.78坪  39.9年    6 /共7層   \n",
      "18             148.1萬               10.13坪   3.93坪    --年    1 /共3層   \n",
      "19                --萬      4.18坪  (含車位--坪)   0.23坪   9.6年   2 /共14層   \n",
      "20             147.7萬                3.38坪   1.31坪    --年    1 /共0層   \n",
      "21              46.3萬               26.22坪   6.73坪  33.8年    1 /共5層   \n",
      "..                ...                  ...     ...    ...       ...   \n",
      "6   * 11萬  (扣除車位價及車坪)   44.69坪  (含車位3.65坪)   3.22坪  13.9年   9 /共19層   \n",
      "8               47.3萬               10.15坪   1.28坪  22.2年   6 /共10層   \n",
      "9               48.7萬               18.17坪   6.35坪    43年    4 /共4層   \n",
      "11              80.7萬                  --坪  13.01坪    --年    0 /共0層   \n",
      "13              52.1萬    36.47坪  (含車位2.3坪)   6.68坪   6.9年    2 /共7層   \n",
      "14              62.9萬   86.12坪  (含車位8.36坪)  10.42坪   3.3年   5 /共12層   \n",
      "15              52.3萬               24.85坪   8.09坪  38.7年    3 /共4層   \n",
      "16              86.8萬                28.8坪   3.56坪    20年   4 /共10層   \n",
      "17            * 26.9萬               10.81坪   2.71坪  33.7年    1 /共5層   \n",
      "19              52.3萬               11.09坪   1.19坪    33年  10 /共11層   \n",
      "0               55.4萬      30.5坪  (含車位--坪)   5.34坪   1.1年    4 /共7層   \n",
      "1               63.7萬     18.07坪  (含車位--坪)   3.84坪   8.1年   8 /共10層   \n",
      "3               45.4萬               13.45坪   1.98坪  19.7年   7 /共13層   \n",
      "4               44.3萬                7.22坪   0.93坪  34.3年   4 /共11層   \n",
      "5               77.2萬                  16坪   1.43坪   4.1年  12 /共15層   \n",
      "6               48.8萬               18.04坪   7.64坪    --年    4 /共4層   \n",
      "7                 47萬               40.18坪   3.59坪  25.8年  10 /共17層   \n",
      "8               55.3萬   46.29坪  (含車位6.58坪)   4.38坪  10.8年   8 /共14層   \n",
      "10                41萬              207.58坪  29.67坪    --年   2 /共10層   \n",
      "11                37萬               10.26坪   0.97坪  36.3年   7 /共10層   \n",
      "13                --萬     11.77坪  (含車位--坪)    0.1坪   4.8年   2 /共15層   \n",
      "15              47.8萬               10.45坪   2.93坪  46.6年    2 /共5層   \n",
      "16                --萬      1.06坪  (含車位--坪)   1.03坪  16.6年   7 /共11層   \n",
      "17            * 50.8萬     46.61坪  (含車位--坪)    2.9坪  26.6年   3 /共17層   \n",
      "19                40萬               10.84坪    1.2坪  33.3年   4 /共11層   \n",
      "0              123.7萬               30.56坪  18.45坪    --年    1 /共2層   \n",
      "1               40.9萬               10.14坪   0.67坪  35.3年   6 /共12層   \n",
      "2               78.9萬               39.04坪   5.82坪  34.1年    1 /共5層   \n",
      "3               81.4萬               10.29坪   1.36坪   9.5年  11 /共11層   \n",
      "5                 43萬                25.6坪   7.71坪  41.3年    4 /共4層   \n",
      "\n",
      "                                                 格局  \\\n",
      "0                                       3房/2廳/1衛/0室   \n",
      "1                                       1房/1廳/1衛/0室   \n",
      "2                             1房/2廳/1衛/1室 近捷運 北門站 》   \n",
      "3                            3房/2廳/1衛/1室 近捷運 大橋頭站 》   \n",
      "4                            2房/2廳/1衛/0室 近捷運 大橋頭站 》   \n",
      "5                                       2房/2廳/2衛/0室   \n",
      "6      0房/2廳/1衛/1室 近捷運 民權西路站 》 近捷運 大橋頭站 》 社區 36行館 》   \n",
      "7                            3房/2廳/1衛/0室 近捷運 大橋頭站 》   \n",
      "8                                       3房/2廳/2衛/0室   \n",
      "9   0房/2廳/1衛/0室 近捷運 民權西路站 》 近捷運 大橋頭站 》 社區 朝代、大同世界 》   \n",
      "10                                      0房/1廳/1衛/0室   \n",
      "11                               0房/0廳/0衛 近捷運 雙連站 》   \n",
      "12                                         0房/0廳/0衛   \n",
      "14                          3房/2廳/2衛/0室 近捷運 民權西路站 》   \n",
      "15                            0房/1廳/1衛/0室 近捷運 圓山站 》   \n",
      "0                   2房/2廳/1衛/0室 近捷運 大橋頭站 》 社區 美妍苑 》   \n",
      "1                               4房/1廳/2衛 近捷運 大橋頭站 》   \n",
      "3                               1房/2廳/1衛 近捷運 大橋頭站 》   \n",
      "5                       3房/2廳/1衛 近捷運 圓山站 》 社區 喜來福 》   \n",
      "7                                          1房/2廳/1衛   \n",
      "9                                4房/1廳/1衛 近捷運 雙連站 》   \n",
      "11                     4房/1廳/1衛 近捷運 北門站 》 社區 國庭花廣 》   \n",
      "12                                         0房/0廳/0衛   \n",
      "14                                3房/1廳/2衛 社區 森立方 》   \n",
      "16                                2房/2廳/2衛 社區 好光景 》   \n",
      "17                              1房/1廳/1衛 近捷運 大橋頭站 》   \n",
      "18                              0房/0廳/3衛 近捷運 台北車站 》   \n",
      "19                             0房/0廳/0衛 近捷運 民權西路站 》   \n",
      "20                              0房/0廳/3衛 近捷運 台北車站 》   \n",
      "21                              0房/0廳/0衛 近捷運 大橋頭站 》   \n",
      "..                                              ...   \n",
      "6            4房/2廳/2衛 近捷運 中山站 》 近捷運 雙連站 》 社區 文化京都 》   \n",
      "8                                          1房/1廳/1衛   \n",
      "9                               2房/2廳/1衛 近捷運 大橋頭站 》   \n",
      "11                                         0房/0廳/0衛   \n",
      "13                                3房/2廳/2衛 社區 精賞集 》   \n",
      "14                     4房/2廳/3衛 近捷運 圓山站 》 社區 皇翔玉璽 》   \n",
      "15                               3房/2廳/1衛 近捷運 中山站 》   \n",
      "16                               0房/0廳/0衛 近捷運 中山站 》   \n",
      "17                               4房/1廳/1衛 近捷運 中山站 》   \n",
      "19                              1房/1廳/1衛 近捷運 大橋頭站 》   \n",
      "0                                          2房/2廳/1衛   \n",
      "1                   2房/1廳/1衛 近捷運 大橋頭站 》 社區 巴里life 》   \n",
      "3                                          1房/1廳/1衛   \n",
      "4                      0房/1廳/1衛 近捷運 北門站 》 社區 香檳大樓 》   \n",
      "5                               0房/1廳/1衛 近捷運 台北車站 》   \n",
      "6                               2房/1廳/1衛 近捷運 大橋頭站 》   \n",
      "7      3房/2廳/2衛 近捷運 民權西路站 》 近捷運 大橋頭站 》 社區 朝代、大同世界 》   \n",
      "8                      2房/2廳/1衛 近捷運 雙連站 》 社區 上野花園 》   \n",
      "10                               0房/0廳/0衛 近捷運 北門站 》   \n",
      "11                                         0房/1廳/1衛   \n",
      "13                  0房/0廳/0衛 近捷運 民權西路站 》 近捷運 大橋頭站 》   \n",
      "15                             2房/1廳/1衛 近捷運 民權西路站 》   \n",
      "16                                         0房/0廳/0衛   \n",
      "17                     3房/2廳/2衛 近捷運 北門站 》 社區 塔城龍門 》   \n",
      "19                              1房/1廳/1衛 近捷運 大橋頭站 》   \n",
      "0                                          4房/2廳/4衛   \n",
      "1                                          1房/1廳/1衛   \n",
      "2                                2房/2廳/1衛 近捷運 中山站 》   \n",
      "3                     1房/1廳/1衛 近捷運 民權西路站 》 社區 第芬妮 》   \n",
      "5                                3房/2廳/1衛 近捷運 圓山站 》   \n",
      "\n",
      "                                                   特殊  \n",
      "0                                                   無  \n",
      "1                                                   無  \n",
      "2                                                   無  \n",
      "3                                                   無  \n",
      "4                                                   無  \n",
      "5                                                   無  \n",
      "6                                                   無  \n",
      "7                                                   無  \n",
      "8                                                   無  \n",
      "9                                                   無  \n",
      "10                                                  無  \n",
      "11                                                  無  \n",
      "12                備註資料：  (包含)公共設施保留地之交易。（資料來源：政府實價登錄）  \n",
      "14                                                  無  \n",
      "15                                                  無  \n",
      "0                                                   無  \n",
      "1               備註資料：  親友、員工或其他特殊關係間之交易。（資料來源：政府實價登錄）  \n",
      "3                      備註資料：  含增建或未登記建物。（資料來源：政府實價登錄）  \n",
      "5                      備註資料：  含增建或未登記建物。（資料來源：政府實價登錄）  \n",
      "7                      備註資料：  含增建或未登記建物。（資料來源：政府實價登錄）  \n",
      "9               備註資料：  親友、員工或其他特殊關係間之交易。（資料來源：政府實價登錄）  \n",
      "11                                                  無  \n",
      "12                    備註資料：  親友特殊關係間之交易。（資料來源：政府實價登錄）  \n",
      "14                     備註資料：  含增建或未登記建物。（資料來源：政府實價登錄）  \n",
      "16                                                  無  \n",
      "17                                                  無  \n",
      "18                                                  無  \n",
      "19                                                  無  \n",
      "20                                                  無  \n",
      "21              備註資料：  共有人數2人。含增建或未登記建物。（資料來源：政府實價登錄）  \n",
      "..                                                ...  \n",
      "6                          備註資料：  二親等間買賣（資料來源：政府實價登錄）  \n",
      "8                                                   無  \n",
      "9                             備註資料：  含增建（資料來源：政府實價登錄）  \n",
      "11                     備註資料：  總價含一棟未登記建物（資料來源：政府實價登錄）  \n",
      "13                                                  無  \n",
      "14                                                  無  \n",
      "15                                                  無  \n",
      "16                                                  無  \n",
      "17              備註資料：  親友、員工或其他特殊關係間之交易。（資料來源：政府實價登錄）  \n",
      "19                                                  無  \n",
      "0                                                   無  \n",
      "1   備註資料：  含增建或未登記建物。本案車位面積無法概算。權利人姓名有難字。（資料來源：政府實...  \n",
      "3                                                   無  \n",
      "4                                                   無  \n",
      "5                                                   無  \n",
      "6                                                   無  \n",
      "7                                                   無  \n",
      "8                           備註資料：  價格含增建（資料來源：政府實價登錄）  \n",
      "10                                                  無  \n",
      "11                     備註資料：  含增建或未登記建物。（資料來源：政府實價登錄）  \n",
      "13                     備註資料：  \"\"\"本案權利人1人（資料來源：政府實價登錄）  \n",
      "15                                                  無  \n",
      "16                                                  無  \n",
      "17              備註資料：  親友、員工或其他特殊關係間之交易。（資料來源：政府實價登錄）  \n",
      "19                                                  無  \n",
      "0                                                   無  \n",
      "1                                                   無  \n",
      "2                                                   無  \n",
      "3                      備註資料：  含增建或未登記建物。（資料來源：政府實價登錄）  \n",
      "5                      備註資料：  含增建或未登記建物。（資料來源：政府實價登錄）  \n",
      "\n",
      "[1565 rows x 11 columns]\n"
     ]
    }
   ],
   "source": [
    "print(temp)"
   ]
  },
  {
   "cell_type": "markdown",
   "metadata": {},
   "source": [
    "print(int(random.random() * 3) + 1)"
   ]
  },
  {
   "cell_type": "code",
   "execution_count": 46,
   "metadata": {},
   "outputs": [
    {
     "data": {
      "text/plain": [
       "True"
      ]
     },
     "execution_count": 46,
     "metadata": {},
     "output_type": "execute_result"
    }
   ],
   "source": [
    "type(list_n[0]) == pd.core.frame.DataFrame"
   ]
  },
  {
   "cell_type": "code",
   "execution_count": 10,
   "metadata": {},
   "outputs": [],
   "source": [
    "try:\n",
    "    temp = pd.concat(list_n)\n",
    "except TypeError:\n",
    "    pass"
   ]
  },
  {
   "cell_type": "code",
   "execution_count": 36,
   "metadata": {},
   "outputs": [
    {
     "ename": "IndexError",
     "evalue": "list index out of range",
     "output_type": "error",
     "traceback": [
      "\u001b[1;31m---------------------------------------------------------------------------\u001b[0m",
      "\u001b[1;31mIndexError\u001b[0m                                Traceback (most recent call last)",
      "\u001b[1;32m<ipython-input-36-f59326a74461>\u001b[0m in \u001b[0;36m<module>\u001b[1;34m()\u001b[0m\n\u001b[0;32m      1\u001b[0m \u001b[1;32mfor\u001b[0m \u001b[0mi\u001b[0m \u001b[1;32min\u001b[0m \u001b[0mrange\u001b[0m\u001b[1;33m(\u001b[0m\u001b[0mlen\u001b[0m\u001b[1;33m(\u001b[0m\u001b[0mlist_n\u001b[0m\u001b[1;33m)\u001b[0m\u001b[1;33m)\u001b[0m\u001b[1;33m:\u001b[0m\u001b[1;33m\u001b[0m\u001b[0m\n\u001b[1;32m----> 2\u001b[1;33m     \u001b[1;32mif\u001b[0m \u001b[0mtype\u001b[0m\u001b[1;33m(\u001b[0m\u001b[0mlist_n\u001b[0m\u001b[1;33m[\u001b[0m\u001b[0mi\u001b[0m\u001b[1;33m]\u001b[0m\u001b[1;33m)\u001b[0m \u001b[1;33m==\u001b[0m \u001b[0mint\u001b[0m\u001b[1;33m:\u001b[0m\u001b[1;33m\u001b[0m\u001b[0m\n\u001b[0m\u001b[0;32m      3\u001b[0m         \u001b[1;32mdel\u001b[0m \u001b[0mlist_n\u001b[0m\u001b[1;33m[\u001b[0m\u001b[0mi\u001b[0m\u001b[1;33m]\u001b[0m\u001b[1;33m\u001b[0m\u001b[0m\n",
      "\u001b[1;31mIndexError\u001b[0m: list index out of range"
     ]
    }
   ],
   "source": [
    "for i in range(len(list_n)):\n",
    "    if type(list_n[i]) == int:\n",
    "        del list_n[i]"
   ]
  },
  {
   "cell_type": "code",
   "execution_count": 37,
   "metadata": {},
   "outputs": [
    {
     "data": {
      "text/plain": [
       "309"
      ]
     },
     "execution_count": 37,
     "metadata": {},
     "output_type": "execute_result"
    }
   ],
   "source": [
    "len(list_n)"
   ]
  },
  {
   "cell_type": "code",
   "execution_count": 24,
   "metadata": {},
   "outputs": [],
   "source": [
    "a = [1,2,3,4,5]"
   ]
  },
  {
   "cell_type": "code",
   "execution_count": 27,
   "metadata": {},
   "outputs": [],
   "source": [
    "a.remove(2)"
   ]
  },
  {
   "cell_type": "code",
   "execution_count": 28,
   "metadata": {},
   "outputs": [
    {
     "data": {
      "text/plain": [
       "[1, 3, 4, 5]"
      ]
     },
     "execution_count": 28,
     "metadata": {},
     "output_type": "execute_result"
    }
   ],
   "source": [
    "a"
   ]
  },
  {
   "cell_type": "code",
   "execution_count": 29,
   "metadata": {},
   "outputs": [],
   "source": [
    "del a[0]"
   ]
  },
  {
   "cell_type": "code",
   "execution_count": 30,
   "metadata": {},
   "outputs": [
    {
     "data": {
      "text/plain": [
       "[3, 4, 5]"
      ]
     },
     "execution_count": 30,
     "metadata": {},
     "output_type": "execute_result"
    }
   ],
   "source": [
    "a"
   ]
  },
  {
   "cell_type": "code",
   "execution_count": null,
   "metadata": {},
   "outputs": [],
   "source": []
  }
 ],
 "metadata": {
  "kernelspec": {
   "display_name": "Python 3",
   "language": "python",
   "name": "python3"
  },
  "language_info": {
   "codemirror_mode": {
    "name": "ipython",
    "version": 3
   },
   "file_extension": ".py",
   "mimetype": "text/x-python",
   "name": "python",
   "nbconvert_exporter": "python",
   "pygments_lexer": "ipython3",
   "version": "3.6.4"
  }
 },
 "nbformat": 4,
 "nbformat_minor": 2
}
